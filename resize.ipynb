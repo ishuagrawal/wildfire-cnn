{
 "cells": [
  {
   "cell_type": "code",
   "execution_count": 1,
   "outputs": [],
   "source": [
    "from PIL import Image\n",
    "import os\n",
    "import glob\n",
    "import numpy as np"
   ],
   "metadata": {
    "collapsed": false,
    "pycharm": {
     "name": "#%%\n"
    }
   }
  },
  {
   "cell_type": "code",
   "execution_count": 2,
   "outputs": [],
   "source": [
    "fire = \"data/raw/fire_images/*.png\"\n",
    "non_fire = \"data/raw/non_fire_images/*.png\""
   ],
   "metadata": {
    "collapsed": false,
    "pycharm": {
     "name": "#%%\n"
    }
   }
  },
  {
   "cell_type": "code",
   "execution_count": 3,
   "outputs": [],
   "source": [
    "# Make directories for preprocessed data:\n",
    "\n",
    "if not os.path.exists(\"data/processed/fire_images\"):\n",
    "    os.makedirs(\"data/processed/fire_images\")\n",
    "if not os.path.exists(\"data/processed/non_fire_images\"):\n",
    "    os.makedirs(\"data/processed/non_fire_images\")\n",
    "processed_fire = \"data/processed/fire_images\"\n",
    "processed_non_fire = \"data/processed/non_fire_images\""
   ],
   "metadata": {
    "collapsed": false,
    "pycharm": {
     "name": "#%%\n"
    }
   }
  },
  {
   "cell_type": "code",
   "execution_count": 4,
   "outputs": [],
   "source": [
    "# Load and resize fire images\n",
    "for image in glob.glob(fire):\n",
    "    img = Image.open(image)\n",
    "\n",
    "    orig_width, orig_height = img.size\n",
    "    new_width, new_height = 200, 200\n",
    "    img = img.crop(((orig_width - new_width) // 2,\n",
    "                    (orig_height - new_height) // 2,\n",
    "                    (orig_width + new_width) // 2,\n",
    "                    (orig_height + new_height) // 2)\n",
    "                  )\n",
    "    image_name = os.path.basename(image)\n",
    "    img.convert('RGB').save(os.path.join(processed_fire, image_name))"
   ],
   "metadata": {
    "collapsed": false,
    "pycharm": {
     "name": "#%%\n"
    }
   }
  },
  {
   "cell_type": "code",
   "execution_count": 5,
   "outputs": [],
   "source": [
    "# Load and resize non-fire images\n",
    "for image in glob.glob(non_fire):\n",
    "    img = Image.open(image)\n",
    "\n",
    "    orig_width, orig_height = img.size\n",
    "    new_width, new_height = 200, 200\n",
    "    img = img.crop(((orig_width - new_width) // 2,\n",
    "                    (orig_height - new_height) // 2,\n",
    "                    (orig_width + new_width) // 2,\n",
    "                    (orig_height + new_height) // 2)\n",
    "                  )\n",
    "    image_name = os.path.basename(image)\n",
    "    img.convert('RGB').save(os.path.join(processed_non_fire, image_name))"
   ],
   "metadata": {
    "collapsed": false,
    "pycharm": {
     "name": "#%%\n"
    }
   }
  },
  {
   "cell_type": "code",
   "execution_count": 12,
   "outputs": [
    {
     "name": "stdout",
     "output_type": "stream",
     "text": [
      "Collecting split-folders\r\n",
      "  Using cached split_folders-0.5.1-py3-none-any.whl (8.4 kB)\r\n",
      "Installing collected packages: split-folders\r\n",
      "Successfully installed split-folders-0.5.1\r\n"
     ]
    }
   ],
   "source": [
    "!{sys.executable} -m pip install split-folders"
   ],
   "metadata": {
    "collapsed": false,
    "pycharm": {
     "name": "#%%\n"
    }
   }
  },
  {
   "cell_type": "code",
   "execution_count": 13,
   "outputs": [],
   "source": [
    "# Create training, validation, and testing sets\n",
    "import splitfolders\n",
    "splitfolders.ratio(\"data/processed\", output=\"data/output\", seed=1337, ratio=(0.8,0.1,0.1))"
   ],
   "metadata": {
    "collapsed": false,
    "pycharm": {
     "name": "#%%\n"
    }
   }
  }
 ],
 "metadata": {
  "kernelspec": {
   "name": "pycharm-386691fe",
   "language": "python",
   "display_name": "PyCharm (wildfire-cnn)"
  },
  "language_info": {
   "codemirror_mode": {
    "name": "ipython",
    "version": 2
   },
   "file_extension": ".py",
   "mimetype": "text/x-python",
   "name": "python",
   "nbconvert_exporter": "python",
   "pygments_lexer": "ipython2",
   "version": "2.7.6"
  }
 },
 "nbformat": 4,
 "nbformat_minor": 0
}