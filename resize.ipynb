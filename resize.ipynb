{
 "cells": [
  {
   "cell_type": "code",
   "execution_count": 60,
   "outputs": [],
   "source": [
    "from PIL import Image\n",
    "import os\n",
    "import glob\n",
    "import numpy as np"
   ],
   "metadata": {
    "collapsed": false,
    "pycharm": {
     "name": "#%%\n"
    }
   }
  },
  {
   "cell_type": "code",
   "execution_count": 61,
   "outputs": [],
   "source": [
    "fire = \"data/raw/fire_images/*.png\"\n",
    "non_fire = \"data/raw/non_fire_images/*.png\""
   ],
   "metadata": {
    "collapsed": false,
    "pycharm": {
     "name": "#%%\n"
    }
   }
  },
  {
   "cell_type": "code",
   "execution_count": 2,
   "outputs": [
    {
     "ename": "NameError",
     "evalue": "name 'os' is not defined",
     "output_type": "error",
     "traceback": [
      "\u001B[0;31m---------------------------------------------------------------------------\u001B[0m",
      "\u001B[0;31mNameError\u001B[0m                                 Traceback (most recent call last)",
      "\u001B[0;32m/var/folders/51/jhpl3ykj54ddcbskznns5mpr0000gn/T/ipykernel_2657/251850302.py\u001B[0m in \u001B[0;36m<module>\u001B[0;34m\u001B[0m\n\u001B[1;32m      1\u001B[0m \u001B[0;31m# Make directories for preprocessed data:\u001B[0m\u001B[0;34m\u001B[0m\u001B[0;34m\u001B[0m\u001B[0;34m\u001B[0m\u001B[0m\n\u001B[1;32m      2\u001B[0m \u001B[0;34m\u001B[0m\u001B[0m\n\u001B[0;32m----> 3\u001B[0;31m \u001B[0;32mif\u001B[0m \u001B[0;32mnot\u001B[0m \u001B[0mos\u001B[0m\u001B[0;34m.\u001B[0m\u001B[0mpath\u001B[0m\u001B[0;34m.\u001B[0m\u001B[0mexists\u001B[0m\u001B[0;34m(\u001B[0m\u001B[0;34m\"data/processed/fire_images\"\u001B[0m\u001B[0;34m)\u001B[0m\u001B[0;34m:\u001B[0m\u001B[0;34m\u001B[0m\u001B[0;34m\u001B[0m\u001B[0m\n\u001B[0m\u001B[1;32m      4\u001B[0m     \u001B[0mos\u001B[0m\u001B[0;34m.\u001B[0m\u001B[0mmakedirs\u001B[0m\u001B[0;34m(\u001B[0m\u001B[0;34m\"data/processed/fire_images\"\u001B[0m\u001B[0;34m)\u001B[0m\u001B[0;34m\u001B[0m\u001B[0;34m\u001B[0m\u001B[0m\n\u001B[1;32m      5\u001B[0m \u001B[0;32mif\u001B[0m \u001B[0;32mnot\u001B[0m \u001B[0mos\u001B[0m\u001B[0;34m.\u001B[0m\u001B[0mpath\u001B[0m\u001B[0;34m.\u001B[0m\u001B[0mexists\u001B[0m\u001B[0;34m(\u001B[0m\u001B[0;34m\"data/processed/non_fire_images\"\u001B[0m\u001B[0;34m)\u001B[0m\u001B[0;34m:\u001B[0m\u001B[0;34m\u001B[0m\u001B[0;34m\u001B[0m\u001B[0m\n",
      "\u001B[0;31mNameError\u001B[0m: name 'os' is not defined"
     ]
    }
   ],
   "source": [
    "# Make directories for preprocessed data:\n",
    "\n",
    "if not os.path.exists(\"data/processed/fire_images\"):\n",
    "    os.makedirs(\"data/processed/fire_images\")\n",
    "if not os.path.exists(\"data/processed/non_fire_images\"):\n",
    "    os.makedirs(\"data/processed/non_fire_images\")\n",
    "processed_fire = \"data/processed/fire_images\"\n",
    "processed_non_fire = \"data/processed/non_fire_images\""
   ],
   "metadata": {
    "collapsed": false,
    "pycharm": {
     "name": "#%%\n"
    }
   }
  },
  {
   "cell_type": "code",
   "execution_count": 63,
   "outputs": [],
   "source": [
    "# Load and resize fire images\n",
    "for image in glob.glob(fire):\n",
    "    img = Image.open(image)\n",
    "\n",
    "    orig_width, orig_height = img.size\n",
    "    new_width, new_height = 200, 200\n",
    "    img = img.crop(((orig_width - new_width) // 2,\n",
    "                    (orig_height - new_height) // 2,\n",
    "                    (orig_width + new_width) // 2,\n",
    "                    (orig_height + new_height) // 2)\n",
    "                  )\n",
    "    image_name = os.path.basename(image)\n",
    "    img.convert('RGB').save(os.path.join(processed_fire, image_name))"
   ],
   "metadata": {
    "collapsed": false,
    "pycharm": {
     "name": "#%%\n"
    }
   }
  },
  {
   "cell_type": "code",
   "execution_count": 64,
   "outputs": [],
   "source": [
    "# Load and resize non-fire images\n",
    "for image in glob.glob(non_fire):\n",
    "    img = Image.open(image)\n",
    "\n",
    "    orig_width, orig_height = img.size\n",
    "    new_width, new_height = 200, 200\n",
    "    img = img.crop(((orig_width - new_width) // 2,\n",
    "                    (orig_height - new_height) // 2,\n",
    "                    (orig_width + new_width) // 2,\n",
    "                    (orig_height + new_height) // 2)\n",
    "                  )\n",
    "    image_name = os.path.basename(image)\n",
    "    img.convert('RGB').save(os.path.join(processed_non_fire, image_name))"
   ],
   "metadata": {
    "collapsed": false,
    "pycharm": {
     "name": "#%%\n"
    }
   }
  },
  {
   "cell_type": "code",
   "execution_count": 9,
   "outputs": [],
   "source": [
    "# Create training, validation, and testing sets\n",
    "import splitfolders\n",
    "splitfolders.ratio(\"data/processed\", output=\"data/output\", seed=1337, ratio=(0.8,0.1,0.1))"
   ],
   "metadata": {
    "collapsed": false,
    "pycharm": {
     "name": "#%%\n"
    }
   }
  }
 ],
 "metadata": {
  "kernelspec": {
   "name": "pycharm-386691fe",
   "language": "python",
   "display_name": "PyCharm (wildfire-cnn)"
  },
  "language_info": {
   "codemirror_mode": {
    "name": "ipython",
    "version": 2
   },
   "file_extension": ".py",
   "mimetype": "text/x-python",
   "name": "python",
   "nbconvert_exporter": "python",
   "pygments_lexer": "ipython2",
   "version": "2.7.6"
  }
 },
 "nbformat": 4,
 "nbformat_minor": 0
}