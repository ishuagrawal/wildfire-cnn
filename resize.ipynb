{
 "cells": [
  {
   "cell_type": "code",
   "execution_count": 39,
   "outputs": [],
   "source": [
    "from PIL import Image\n",
    "import os\n",
    "import numpy as np"
   ],
   "metadata": {
    "collapsed": false,
    "pycharm": {
     "name": "#%%\n"
    }
   }
  },
  {
   "cell_type": "code",
   "execution_count": 40,
   "outputs": [],
   "source": [
    "fire = \"data/raw/fire_images\"\n",
    "non_fire = \"data/raw/non_fire_images\""
   ],
   "metadata": {
    "collapsed": false,
    "pycharm": {
     "name": "#%%\n"
    }
   }
  },
  {
   "cell_type": "code",
   "execution_count": 45,
   "outputs": [],
   "source": [
    "# Preprocessing:\n",
    "if not os.path.exists(\"data/processed/fire_images\"):\n",
    "    os.makedirs(\"data/processed/fire_images\")\n",
    "if not os.path.exists(\"data/processed/non_fire_images\"):\n",
    "    os.makedirs(\"data/processed/non_fire_images\")\n",
    "processed_fire = \"data/processed/fire_images\"\n",
    "processed_non_fire = \"data/processed/non_fire_images\"\n",
    "\n",
    "# Load and resize fire images\n",
    "for image in os.listdir(fire):\n",
    "    image_name = image\n",
    "    image = os.path.join(fire, image)\n",
    "    img = Image.open(image)\n",
    "\n",
    "    orig_width, orig_height = img.size\n",
    "    new_width, new_height = 200, 200\n",
    "    img = img.crop(((orig_width - new_width) // 2,\n",
    "                    (orig_height - new_height) // 2,\n",
    "                    (orig_width + new_width) // 2,\n",
    "                    (orig_height + new_height) // 2)\n",
    "                  )\n",
    "    img.save(os.path.join(processed_fire, image_name))\n",
    "\n",
    "# Load and resize non-fire images\n",
    "for image in os.listdir(non_fire):\n",
    "    image_name = image\n",
    "    image = os.path.join(non_fire, image)\n",
    "    img = Image.open(image)\n",
    "\n",
    "    orig_width, orig_height = img.size\n",
    "    new_width, new_height = 200, 200\n",
    "    img = img.crop(((orig_width - new_width) // 2,\n",
    "                    (orig_height - new_height) // 2,\n",
    "                    (orig_width + new_width) // 2,\n",
    "                    (orig_height + new_height) // 2)\n",
    "                  )\n",
    "    img.save(os.path.join(processed_non_fire, image_name))"
   ],
   "metadata": {
    "collapsed": false,
    "pycharm": {
     "name": "#%%\n"
    }
   }
  }
 ],
 "metadata": {
  "kernelspec": {
   "name": "pycharm-386691fe",
   "language": "python",
   "display_name": "PyCharm (wildfire-cnn)"
  },
  "language_info": {
   "codemirror_mode": {
    "name": "ipython",
    "version": 2
   },
   "file_extension": ".py",
   "mimetype": "text/x-python",
   "name": "python",
   "nbconvert_exporter": "python",
   "pygments_lexer": "ipython2",
   "version": "2.7.6"
  }
 },
 "nbformat": 4,
 "nbformat_minor": 0
}